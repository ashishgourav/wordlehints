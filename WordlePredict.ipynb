{
 "cells": [
  {
   "cell_type": "code",
   "execution_count": 1,
   "metadata": {},
   "outputs": [],
   "source": [
    "import nltk\n",
    "from nltk.corpus import words\n",
    "import random"
   ]
  },
  {
   "cell_type": "code",
   "execution_count": null,
   "metadata": {},
   "outputs": [],
   "source": [
    "# nltk.download()"
   ]
  },
  {
   "cell_type": "code",
   "execution_count": 2,
   "metadata": {},
   "outputs": [
    {
     "name": "stdout",
     "output_type": "stream",
     "text": [
      "236736\n"
     ]
    }
   ],
   "source": [
    "all_words_list = words.words()\n",
    "print(len(all_words_list))"
   ]
  },
  {
   "cell_type": "code",
   "execution_count": 3,
   "metadata": {},
   "outputs": [
    {
     "name": "stdout",
     "output_type": "stream",
     "text": [
      "0\n"
     ]
    }
   ],
   "source": [
    "five_letter_words = []\n",
    "print(len(five_letter_words))"
   ]
  },
  {
   "cell_type": "code",
   "execution_count": 4,
   "metadata": {},
   "outputs": [
    {
     "name": "stdout",
     "output_type": "stream",
     "text": [
      "9972\n"
     ]
    }
   ],
   "source": [
    "for i in range(len(all_words_list)):\n",
    "    if len(all_words_list[i]) == 5:\n",
    "        five_letter_words.append(all_words_list[i])\n",
    "\n",
    "five_letter_words = list(set(list(map(str.lower,five_letter_words))))        \n",
    "print(len(five_letter_words))    "
   ]
  },
  {
   "cell_type": "code",
   "execution_count": 5,
   "metadata": {},
   "outputs": [
    {
     "name": "stdout",
     "output_type": "stream",
     "text": [
      "3\n"
     ]
    }
   ],
   "source": [
    "temp_list = []\n",
    "letters_present = ['s','l']\n",
    "letters_absent = ['a','e','t','k','u']\n",
    "first_absent = []\n",
    "second_absent = []\n",
    "third_absent = ['l']\n",
    "fourth_absent = []\n",
    "fifth_absent = []\n",
    "\n",
    "for i in range(len(five_letter_words)):\n",
    "    if five_letter_words[i][0] == 's' and  five_letter_words[i][3] == 'l' and five_letter_words[i][4] == 'l' and all(l in five_letter_words[i] for l in letters_present) and not any(k in five_letter_words[i] for k in letters_absent) and not any(l in five_letter_words[i][0] for l in first_absent) and not any(l in five_letter_words[i][1] for l in second_absent) and not any(l in five_letter_words[i][2] for l in third_absent) and not any(l in five_letter_words[i][3] for l in fourth_absent) and not any(l in five_letter_words[i][4] for l in fifth_absent) :\n",
    "        temp_list.append(five_letter_words[i]) \n",
    "        \n",
    "\n",
    "        \n",
    "        \n",
    "print(len(temp_list))"
   ]
  },
  {
   "cell_type": "code",
   "execution_count": 7,
   "metadata": {},
   "outputs": [
    {
     "name": "stdout",
     "output_type": "stream",
     "text": [
      "spill\n"
     ]
    }
   ],
   "source": [
    "print(random.choice(temp_list))"
   ]
  },
  {
   "cell_type": "code",
   "execution_count": 6,
   "metadata": {},
   "outputs": [
    {
     "data": {
      "text/plain": [
       "['shill', 'swill', 'spill']"
      ]
     },
     "execution_count": 6,
     "metadata": {},
     "output_type": "execute_result"
    }
   ],
   "source": [
    "temp_list"
   ]
  },
  {
   "cell_type": "code",
   "execution_count": null,
   "metadata": {},
   "outputs": [],
   "source": []
  }
 ],
 "metadata": {
  "kernelspec": {
   "display_name": "Python 3",
   "language": "python",
   "name": "python3"
  },
  "language_info": {
   "codemirror_mode": {
    "name": "ipython",
    "version": 3
   },
   "file_extension": ".py",
   "mimetype": "text/x-python",
   "name": "python",
   "nbconvert_exporter": "python",
   "pygments_lexer": "ipython3",
   "version": "3.8.3"
  }
 },
 "nbformat": 4,
 "nbformat_minor": 4
}
